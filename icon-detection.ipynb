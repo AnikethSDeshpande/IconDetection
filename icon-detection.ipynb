{
 "cells": [
  {
   "cell_type": "markdown",
   "metadata": {},
   "source": [
    "# Icon Detection using OpenCV"
   ]
  },
  {
   "cell_type": "code",
   "execution_count": null,
   "metadata": {},
   "outputs": [],
   "source": [
    "# OpenCV program to detect google maps icon in real time\n",
    "# Output the coordinates of icon\n",
    "\n",
    "import cv2\n",
    "\n",
    "\n",
    "cascade = cv2.CascadeClassifier('gmaps.xml')\n",
    "\n",
    "# capture frames from a camera\n",
    "cap = cv2.VideoCapture(0)\n",
    "\n",
    "# loop runs if capturing has been initialized.\n",
    "while 1:\n",
    "    # reads frames from a camera\n",
    "    ret, img = cap.read()\n",
    "\n",
    "    # convert to gray scale of each frames\n",
    "    gray = cv2.cvtColor(img, cv2.COLOR_BGR2GRAY)\n",
    "\n",
    "    # Detects icons of different sizes in the input image\n",
    "    icons = cascade.detectMultiScale(gray, 1.3, 5)\n",
    "\n",
    "    for (x, y, w, h) in icons:\n",
    "        # Rectangular border around the detected icon\n",
    "        cv2.rectangle(img, (x, y), (x+w, y+h), (255, 255, 0), 2)\n",
    "        roi_gray = gray[y:y+h, x:x+w]\n",
    "        roi_color = img[y:y+h, x:x+w]\n",
    "        print('(%s' % str(x) + ', %s)' % y)\n",
    "\n",
    "    # Display an image in a window\n",
    "    cv2.imshow('img', img)\n",
    "\n",
    "    # Wait for Esc key to stop\n",
    "    k = cv2.waitKey(30) & 0xff\n",
    "    if k == 27:\n",
    "        break\n",
    "\n",
    "# Close the window\n",
    "cap.release()\n",
    "\n",
    "# De-allocate any associated memory usage\n",
    "cv2.destroyAllWindows()\n"
   ]
  }
 ],
 "metadata": {
  "kernelspec": {
   "display_name": "Python 3",
   "language": "python",
   "name": "python3"
  },
  "language_info": {
   "codemirror_mode": {
    "name": "ipython",
    "version": 3
   },
   "file_extension": ".py",
   "mimetype": "text/x-python",
   "name": "python",
   "nbconvert_exporter": "python",
   "pygments_lexer": "ipython3",
   "version": "3.6.5"
  }
 },
 "nbformat": 4,
 "nbformat_minor": 2
}
